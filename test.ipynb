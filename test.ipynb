{
 "cells": [
  {
   "cell_type": "markdown",
   "metadata": {},
   "source": [
    "curl -X GET \"https://your-development-store.myshopify.com/admin/api/2023-07/products.json\" \\\n",
    "-H \"X-Shopify-Access-Token: {access_token}\""
   ]
  },
  {
   "cell_type": "code",
   "execution_count": 5,
   "metadata": {},
   "outputs": [
    {
     "name": "stderr",
     "output_type": "stream",
     "text": [
      "/tmp/ipykernel_7147/3647438458.py:29: MarkupResemblesLocatorWarning: The input looks more like a filename than markup. You may want to open this file and pass the filehandle into Beautiful Soup.\n",
      "  soup = BeautifulSoup(row[\"body_html\"], \"html.parser\")\n"
     ]
    }
   ],
   "source": [
    "from bs4 import BeautifulSoup\n",
    "import requests\n",
    "import os\n",
    "from dotenv import load_dotenv\n",
    "import time\n",
    "import pandas as pd\n",
    "pd.set_option(\"display.max_colwidth\", 1000)\n",
    "load_dotenv()\n",
    "\n",
    "shop_url = \"https://0349d9.myshopify.com\"\n",
    "api_version = \"2023-07\"\n",
    "\n",
    "def get_all_products(shop_url, api_version):\n",
    "    all_products = []\n",
    "    url = f\"{shop_url}/admin/api/{api_version}/products.json\"\n",
    "    headers = {\"X-Shopify-Access-Token\": os.getenv(\"SHOPIFY_API_KEY\")}\n",
    "    params = {\"limit\": 250}\n",
    "    response = requests.get(url, headers=headers, params=params)\n",
    "    all_products.extend(response.json()[\"products\"])\n",
    "    try:\n",
    "        while response.links[\"next\"]:\n",
    "            response = requests.get(response.links[\"next\"][\"url\"], headers=headers)\n",
    "            all_products.extend(response.json()[\"products\"])\n",
    "            time.sleep(2)\n",
    "    except KeyError:\n",
    "        return all_products\n",
    "    \n",
    "def clean_html_tags(row):\n",
    "    soup = BeautifulSoup(row[\"body_html\"], \"html.parser\")\n",
    "    text = soup.get_text()\n",
    "    row[\"body_html\"] = text\n",
    "    return row\n",
    "\n",
    "def get_img_src(row):\n",
    "    all_images = []\n",
    "    for image in row[\"images\"]:\n",
    "        all_images.append(image[\"src\"])\n",
    "    row[\"images_list\"] = all_images\n",
    "    return row\n",
    "\n",
    "def create_expandend_description(row):\n",
    "    if row[\"body_html\"] == \"\" and row[\"tags\"] == \"\":\n",
    "        row[\"expanded_description\"] = row[\"title\"]\n",
    "    elif row[\"body_html\"] == \"\" and row[\"tags\"] != \"\":\n",
    "        row[\"expanded_description\"] = \"Title: \" + row['title'] + \" Tags: \" + row['tags']\n",
    "    elif row[\"body_html\"] != \"\" and row[\"tags\"] == \"\":\n",
    "        row[\"expanded_description\"] = \"Title: \" + row['title'] + \" Description: \" +row[\"body_html\"]\n",
    "    else:\n",
    "        row[\"expanded_description\"] = \"Title: \" + row['title'] + \" Description: \" +row[\"body_html\"] + \" Tags: \" + row['tags']\n",
    "    return row\n",
    "\n",
    "def df_preprocessing(df):\n",
    "    df = df[df[\"status\"] == \"active\"]\n",
    "    df.fillna(\"\", inplace=True)\n",
    "    df = df.apply(lambda row: get_img_src(row), axis=1)\n",
    "    df = df.apply(lambda row: create_expandend_description(row), axis=1)\n",
    "    df = df.apply(lambda row: clean_html_tags(row), axis=1)\n",
    "    df = df.rename(columns={\"body_html\": \"description\"})\n",
    "    df = df[[\"id\", \"title\", \"handle\",\"description\", \"expanded_description\", \"images_list\"]]\n",
    "    return df\n",
    "\n",
    "all_products = get_all_products(shop_url, api_version)\n",
    "product_df = pd.DataFrame(all_products)\n",
    "cleaned_df = df_preprocessing(product_df)\n",
    "\n",
    "\n",
    "cleaned_df.to_csv(\"products.csv\", index=False)\n",
    "cleaned_products_json = cleaned_df.to_json(orient=\"records\")\n",
    "with open(\"products.json\", \"w\") as f:\n",
    "    f.write(cleaned_products_json)"
   ]
  },
  {
   "cell_type": "code",
   "execution_count": 28,
   "metadata": {},
   "outputs": [],
   "source": [
    "from langchain.document_loaders.json_loader import JSONLoader\n",
    "# Define the metadata extraction function.\n",
    "def metadata_func(record: dict, metadata: dict) -> dict:\n",
    "    metadata[\"id\"] = record.get(\"id\")\n",
    "    metadata[\"title\"] = record.get(\"title\")\n",
    "    metadata[\"tags\"] = record.get(\"tags\")\n",
    "    metadata[\"images_list\"] = record.get(\"images_list\")\n",
    "    metadata[\"handle\"] = record.get(\"handle\")\n",
    "    return metadata\n",
    "\n",
    "\n",
    "loader = JSONLoader(\n",
    "    file_path='./products.json',\n",
    "    jq_schema='.[]',\n",
    "    content_key=\"expanded_description\",\n",
    "    metadata_func=metadata_func\n",
    ")\n",
    "\n",
    "documents = loader.load()\n"
   ]
  },
  {
   "cell_type": "code",
   "execution_count": 31,
   "metadata": {},
   "outputs": [
    {
     "data": {
      "text/plain": [
       "0.0003005"
      ]
     },
     "execution_count": 31,
     "metadata": {},
     "output_type": "execute_result"
    }
   ],
   "source": [
    "from langchain.text_splitter import SentenceTransformersTokenTextSplitter\n",
    "splitter = SentenceTransformersTokenTextSplitter(chunk_overlap=0)\n",
    "\n",
    "def count_tokens(text):\n",
    "    return splitter.count_tokens(text=text)\n",
    "\n",
    "summed_tokens = 0\n",
    "for product in documents:\n",
    "    summed_tokens += count_tokens(product.page_content)\n",
    "\n",
    "summed_tokens / 1000 * 0.0001 "
   ]
  },
  {
   "cell_type": "code",
   "execution_count": 1,
   "metadata": {},
   "outputs": [],
   "source": [
    "from utils import load_vectorstore\n",
    "from dotenv import load_dotenv\n",
    "load_dotenv()\n",
    "\n",
    "vectorstore = load_vectorstore(vectorstore_path=\"./shopify_langchaintesting_vectorstore\", index_name=\"products\")"
   ]
  },
  {
   "cell_type": "code",
   "execution_count": 2,
   "metadata": {},
   "outputs": [],
   "source": [
    "result = vectorstore.similarity_search(\"I want a adidas shoe for my child\")"
   ]
  },
  {
   "cell_type": "code",
   "execution_count": 4,
   "metadata": {},
   "outputs": [
    {
     "name": "stdout",
     "output_type": "stream",
     "text": [
      "Title: ADIDAS | KID'S STAN SMITH Description: The Stan Smith owned the tennis court in the '70s. Today it runs the streets with the same clean, classic style. These kids' shoes preserve the iconic look of the original, made in leather with punched 3-Stripes, heel and tongue logos and lightweight step-in cushioning. Tags: adidas, egnition-sample-data, kid\n",
      "['https://cdn.shopify.com/s/files/1/0772/8542/5497/products/7883dc186e15bf29dad696e1e989e914.jpg?v=1692705055', 'https://cdn.shopify.com/s/files/1/0772/8542/5497/products/8cd561824439482e3cea5ba8e3a6e2f6.jpg?v=1692705056', 'https://cdn.shopify.com/s/files/1/0772/8542/5497/products/2e1f72987692d2dcc3c02be2f194d6c5.jpg?v=1692705056', 'https://cdn.shopify.com/s/files/1/0772/8542/5497/products/6216e82660d881e6f2b0e46dc3f8844a.jpg?v=1692705056', 'https://cdn.shopify.com/s/files/1/0772/8542/5497/products/e5247cc373e3b61f18013282a6d9c3c0.jpg?v=1692705056']\n",
      "Title: NIKE | TODDLER ROSHE ONE Description: The Nike Roshe One Infant Shoe offers breathable comfort and soft yet durable cushioning with a mesh upper and Phylon midsole that doubles as an outsole. The shoe is intended to be versatile, worn with or without socks, dressed up or down, for walking or just taking it easy. Tags: egnition-sample-data, kid, nike\n",
      "['https://cdn.shopify.com/s/files/1/0772/8542/5497/products/0ea90fb43c087d165cbf985098cc951e.jpg?v=1692705048', 'https://cdn.shopify.com/s/files/1/0772/8542/5497/products/8eeca51f9690c7d3a450ac1afce12447.jpg?v=1692705048', 'https://cdn.shopify.com/s/files/1/0772/8542/5497/products/e62b9da2f06b91ca1e2ef42437cfd265.jpg?v=1692705048', 'https://cdn.shopify.com/s/files/1/0772/8542/5497/products/46a7bbc695d01a6b0e5fee283cbfba99.jpg?v=1692705048', 'https://cdn.shopify.com/s/files/1/0772/8542/5497/products/986a2b052ada03689c1c0a576fd00d94.jpg?v=1692705048']\n",
      "Title: ADIDAS | SUPERSTAR 80S Description: There's a shell toe for every season, and the adidas Originals Superstar 80s shoes have a full grain leather upper with a shiny badge on the tongue that makes these shoes ready for any time of year. Tags: adidas, autumn, egnition-sample-data, men, spring, summer\n",
      "['https://cdn.shopify.com/s/files/1/0772/8542/5497/products/44694ee386818f3276566210464cf341.jpg?v=1692704954', 'https://cdn.shopify.com/s/files/1/0772/8542/5497/products/b5176e5151cdf20d15cff3f551274753.jpg?v=1692704954', 'https://cdn.shopify.com/s/files/1/0772/8542/5497/products/6eb0aa9fdb271e5954b2f0d09a0640e4.jpg?v=1692704954', 'https://cdn.shopify.com/s/files/1/0772/8542/5497/products/015219de8a5be46a3b0a7b9089112d74.jpg?v=1692704954', 'https://cdn.shopify.com/s/files/1/0772/8542/5497/products/e8490702c423e6c62d356cace500822f.jpg?v=1692704954']\n",
      "Title: CONVERSE | TODDLER CHUCK TAYLOR ALL STAR AXEL MID Description: The Converse Chuck Taylor All Star Axel recasts the iconic original in a refreshed silhouette for a premium look and feel. A no-tie design lets kids slip them on and go, while a rubber outsole delivers reliable traction from the classroom to the playground. Tags: converse, egnition-sample-data, kid\n",
      "['https://cdn.shopify.com/s/files/1/0772/8542/5497/products/9e0022e2f92e19ed96c8f908f2cf1b40.jpg?v=1692705041', 'https://cdn.shopify.com/s/files/1/0772/8542/5497/products/ccb1295a4de27c9e22baa70f93c80e11.jpg?v=1692705041', 'https://cdn.shopify.com/s/files/1/0772/8542/5497/products/a1c5f2b0c38389be8616b23b4809d1eb.jpg?v=1692705041', 'https://cdn.shopify.com/s/files/1/0772/8542/5497/products/e80b902b3f4690444edb80c1462b262c.jpg?v=1692705041', 'https://cdn.shopify.com/s/files/1/0772/8542/5497/products/d6b14300fa5787e09152538830682ce3.jpg?v=1692705041']\n"
     ]
    }
   ],
   "source": [
    "for product in result:\n",
    "    print(product.page_content)\n",
    "    print(product.metadata[\"images_list\"])"
   ]
  },
  {
   "cell_type": "code",
   "execution_count": 11,
   "metadata": {},
   "outputs": [
    {
     "data": {
      "text/plain": [
       "'[{\"page_content\":\"Title: ADIDAS | KID\\'S STAN SMITH Description: The Stan Smith owned the tennis court in the \\'70s. Today it runs the streets with the same clean, classic style. These kids\\' shoes preserve the iconic look of the original, made in leather with punched 3-Stripes, heel and tongue logos and lightweight step-in cushioning. Tags: adidas, egnition-sample-data, kid\",\"metadata\":{\"source\":\"/home/leon/code/shopify_langchain_testing/products.json\",\"seq_num\":3,\"id\":8497889673561,\"title\":\"ADIDAS | KID\\'S STAN SMITH\",\"tags\":null,\"images_list\":[\"https://cdn.shopify.com/s/files/1/0772/8542/5497/products/7883dc186e15bf29dad696e1e989e914.jpg?v=1692705055\",\"https://cdn.shopify.com/s/files/1/0772/8542/5497/products/8cd561824439482e3cea5ba8e3a6e2f6.jpg?v=1692705056\",\"https://cdn.shopify.com/s/files/1/0772/8542/5497/products/2e1f72987692d2dcc3c02be2f194d6c5.jpg?v=1692705056\",\"https://cdn.shopify.com/s/files/1/0772/8542/5497/products/6216e82660d881e6f2b0e46dc3f8844a.jpg?v=1692705056\",\"https://cdn.shopify.com/s/files/1/0772/8542/5497/products/e5247cc373e3b61f18013282a6d9c3c0.jpg?v=1692705056\"],\"handle\":\"adidas-kids-stan-smith\"}},{\"page_content\":\"Title: NIKE | TODDLER ROSHE ONE Description: The Nike Roshe One Infant Shoe offers breathable comfort and soft yet durable cushioning with a mesh upper and Phylon midsole that doubles as an outsole. The shoe is intended to be versatile, worn with or without socks, dressed up or down, for walking or just taking it easy. Tags: egnition-sample-data, kid, nike\",\"metadata\":{\"source\":\"/home/leon/code/shopify_langchain_testing/products.json\",\"seq_num\":16,\"id\":8497889640793,\"title\":\"NIKE | TODDLER ROSHE ONE\",\"tags\":null,\"images_list\":[\"https://cdn.shopify.com/s/files/1/0772/8542/5497/products/0ea90fb43c087d165cbf985098cc951e.jpg?v=1692705048\",\"https://cdn.shopify.com/s/files/1/0772/8542/5497/products/8eeca51f9690c7d3a450ac1afce12447.jpg?v=1692705048\",\"https://cdn.shopify.com/s/files/1/0772/8542/5497/products/e62b9da2f06b91ca1e2ef42437cfd265.jpg?v=1692705048\",\"https://cdn.shopify.com/s/files/1/0772/8542/5497/products/46a7bbc695d01a6b0e5fee283cbfba99.jpg?v=1692705048\",\"https://cdn.shopify.com/s/files/1/0772/8542/5497/products/986a2b052ada03689c1c0a576fd00d94.jpg?v=1692705048\"],\"handle\":\"nike-toddler-roshe-one\"}},{\"page_content\":\"Title: ADIDAS | SUPERSTAR 80S Description: There\\'s a shell toe for every season, and the adidas Originals Superstar 80s shoes have a full grain leather upper with a shiny badge on the tongue that makes these shoes ready for any time of year. Tags: adidas, autumn, egnition-sample-data, men, spring, summer\",\"metadata\":{\"source\":\"/home/leon/code/shopify_langchain_testing/products.json\",\"seq_num\":4,\"id\":8497888493913,\"title\":\"ADIDAS | SUPERSTAR 80S\",\"tags\":null,\"images_list\":[\"https://cdn.shopify.com/s/files/1/0772/8542/5497/products/44694ee386818f3276566210464cf341.jpg?v=1692704954\",\"https://cdn.shopify.com/s/files/1/0772/8542/5497/products/b5176e5151cdf20d15cff3f551274753.jpg?v=1692704954\",\"https://cdn.shopify.com/s/files/1/0772/8542/5497/products/6eb0aa9fdb271e5954b2f0d09a0640e4.jpg?v=1692704954\",\"https://cdn.shopify.com/s/files/1/0772/8542/5497/products/015219de8a5be46a3b0a7b9089112d74.jpg?v=1692704954\",\"https://cdn.shopify.com/s/files/1/0772/8542/5497/products/e8490702c423e6c62d356cace500822f.jpg?v=1692704954\"],\"handle\":\"adidas-superstar-80s\"}},{\"page_content\":\"Title: CONVERSE | TODDLER CHUCK TAYLOR ALL STAR AXEL MID Description: The Converse Chuck Taylor All Star Axel recasts the iconic original in a refreshed silhouette for a premium look and feel. A no-tie design lets kids slip them on and go, while a rubber outsole delivers reliable traction from the classroom to the playground. Tags: converse, egnition-sample-data, kid\",\"metadata\":{\"source\":\"/home/leon/code/shopify_langchain_testing/products.json\",\"seq_num\":8,\"id\":8497889575257,\"title\":\"CONVERSE | TODDLER CHUCK TAYLOR ALL STAR AXEL MID\",\"tags\":null,\"images_list\":[\"https://cdn.shopify.com/s/files/1/0772/8542/5497/products/9e0022e2f92e19ed96c8f908f2cf1b40.jpg?v=1692705041\",\"https://cdn.shopify.com/s/files/1/0772/8542/5497/products/ccb1295a4de27c9e22baa70f93c80e11.jpg?v=1692705041\",\"https://cdn.shopify.com/s/files/1/0772/8542/5497/products/a1c5f2b0c38389be8616b23b4809d1eb.jpg?v=1692705041\",\"https://cdn.shopify.com/s/files/1/0772/8542/5497/products/e80b902b3f4690444edb80c1462b262c.jpg?v=1692705041\",\"https://cdn.shopify.com/s/files/1/0772/8542/5497/products/d6b14300fa5787e09152538830682ce3.jpg?v=1692705041\"],\"handle\":\"converse-toddler-chuck-taylor-all-star-axel-mid\"}},{\"page_content\":\"Title: ADIDAS | CLASSIC BACKPACK | LEGEND INK MULTICOLOUR Description: The adidas BP Classic Cap features a pre-curved brim to keep your face shaded, while a hook-and-loop adjustable closure provides a comfortable fit. With a 3-Stripes design and reflective accents. The perfect piece to top off any outfit. Tags: adidas, backpack, egnition-sample-data\",\"metadata\":{\"source\":\"/home/leon/code/shopify_langchain_testing/products.json\",\"seq_num\":2,\"id\":8497890001241,\"title\":\"ADIDAS | CLASSIC BACKPACK | LEGEND INK MULTICOLOUR\",\"tags\":null,\"images_list\":[\"https://cdn.shopify.com/s/files/1/0772/8542/5497/products/8072c8b5718306d4be25aac21836ce16.jpg?v=1692705085\",\"https://cdn.shopify.com/s/files/1/0772/8542/5497/products/32b3863554f4686d825d9da18a24cfc6.jpg?v=1692705085\",\"https://cdn.shopify.com/s/files/1/0772/8542/5497/products/044f848776141f1024eae6c610a28d12.jpg?v=1692705085\"],\"handle\":\"adidas-classic-backpack-legend-ink-multicolour\"}}]'"
      ]
     },
     "execution_count": 11,
     "metadata": {},
     "output_type": "execute_result"
    }
   ],
   "source": [
    "import requests\n",
    "from dotenv import load_dotenv\n",
    "load_dotenv()\n",
    "header = {\n",
    "    \"Content-Type\": \"application/json\",\n",
    "    \"Authorization\": \"Bearer \" + os.getenv(\"SHOPIFY_STATIC_TOKEN\")\n",
    "}\n",
    "response = requests.get(\"http://127.0.0.1:8000/product_search/\", params={\"query\": \"I want a adidas shoe for my child\", \"k\": 5}, headers=header)\n",
    "response.text"
   ]
  },
  {
   "cell_type": "code",
   "execution_count": 6,
   "metadata": {},
   "outputs": [
    {
     "name": "stdout",
     "output_type": "stream",
     "text": [
      "18mIeyZHogqcYV--EiSDUWpc9Uscjh02\n",
      "Token length: 32\n"
     ]
    }
   ],
   "source": [
    "import os\n",
    "import base64\n",
    "token_bytes = os.urandom(24)\n",
    "safe_token = base64.urlsafe_b64encode(token_bytes).decode('utf-8')\n",
    "print(safe_token)\n",
    "print(\"Token length:\", len(safe_token))"
   ]
  },
  {
   "cell_type": "code",
   "execution_count": 3,
   "metadata": {},
   "outputs": [
    {
     "data": {
      "text/plain": [
       "[{'page_content': \"Title: ADIDAS | KID'S STAN SMITH Description: The Stan Smith owned the tennis court in the '70s. Today it runs the streets with the same clean, classic style. These kids' shoes preserve the iconic look of the original, made in leather with punched 3-Stripes, heel and tongue logos and lightweight step-in cushioning. Tags: adidas, egnition-sample-data, kid\",\n",
       "  'metadata': {'source': '/home/leon/code/shopify_langchain_testing/products.json',\n",
       "   'seq_num': 3,\n",
       "   'id': 8497889673561,\n",
       "   'title': \"ADIDAS | KID'S STAN SMITH\",\n",
       "   'tags': None,\n",
       "   'images_list': ['https://cdn.shopify.com/s/files/1/0772/8542/5497/products/7883dc186e15bf29dad696e1e989e914.jpg?v=1692705055',\n",
       "    'https://cdn.shopify.com/s/files/1/0772/8542/5497/products/8cd561824439482e3cea5ba8e3a6e2f6.jpg?v=1692705056',\n",
       "    'https://cdn.shopify.com/s/files/1/0772/8542/5497/products/2e1f72987692d2dcc3c02be2f194d6c5.jpg?v=1692705056',\n",
       "    'https://cdn.shopify.com/s/files/1/0772/8542/5497/products/6216e82660d881e6f2b0e46dc3f8844a.jpg?v=1692705056',\n",
       "    'https://cdn.shopify.com/s/files/1/0772/8542/5497/products/e5247cc373e3b61f18013282a6d9c3c0.jpg?v=1692705056'],\n",
       "   'handle': 'adidas-kids-stan-smith'}},\n",
       " {'page_content': 'Title: NIKE | TODDLER ROSHE ONE Description: The Nike Roshe One Infant Shoe offers breathable comfort and soft yet durable cushioning with a mesh upper and Phylon midsole that doubles as an outsole. The shoe is intended to be versatile, worn with or without socks, dressed up or down, for walking or just taking it easy. Tags: egnition-sample-data, kid, nike',\n",
       "  'metadata': {'source': '/home/leon/code/shopify_langchain_testing/products.json',\n",
       "   'seq_num': 16,\n",
       "   'id': 8497889640793,\n",
       "   'title': 'NIKE | TODDLER ROSHE ONE',\n",
       "   'tags': None,\n",
       "   'images_list': ['https://cdn.shopify.com/s/files/1/0772/8542/5497/products/0ea90fb43c087d165cbf985098cc951e.jpg?v=1692705048',\n",
       "    'https://cdn.shopify.com/s/files/1/0772/8542/5497/products/8eeca51f9690c7d3a450ac1afce12447.jpg?v=1692705048',\n",
       "    'https://cdn.shopify.com/s/files/1/0772/8542/5497/products/e62b9da2f06b91ca1e2ef42437cfd265.jpg?v=1692705048',\n",
       "    'https://cdn.shopify.com/s/files/1/0772/8542/5497/products/46a7bbc695d01a6b0e5fee283cbfba99.jpg?v=1692705048',\n",
       "    'https://cdn.shopify.com/s/files/1/0772/8542/5497/products/986a2b052ada03689c1c0a576fd00d94.jpg?v=1692705048'],\n",
       "   'handle': 'nike-toddler-roshe-one'}},\n",
       " {'page_content': \"Title: ADIDAS | SUPERSTAR 80S Description: There's a shell toe for every season, and the adidas Originals Superstar 80s shoes have a full grain leather upper with a shiny badge on the tongue that makes these shoes ready for any time of year. Tags: adidas, autumn, egnition-sample-data, men, spring, summer\",\n",
       "  'metadata': {'source': '/home/leon/code/shopify_langchain_testing/products.json',\n",
       "   'seq_num': 4,\n",
       "   'id': 8497888493913,\n",
       "   'title': 'ADIDAS | SUPERSTAR 80S',\n",
       "   'tags': None,\n",
       "   'images_list': ['https://cdn.shopify.com/s/files/1/0772/8542/5497/products/44694ee386818f3276566210464cf341.jpg?v=1692704954',\n",
       "    'https://cdn.shopify.com/s/files/1/0772/8542/5497/products/b5176e5151cdf20d15cff3f551274753.jpg?v=1692704954',\n",
       "    'https://cdn.shopify.com/s/files/1/0772/8542/5497/products/6eb0aa9fdb271e5954b2f0d09a0640e4.jpg?v=1692704954',\n",
       "    'https://cdn.shopify.com/s/files/1/0772/8542/5497/products/015219de8a5be46a3b0a7b9089112d74.jpg?v=1692704954',\n",
       "    'https://cdn.shopify.com/s/files/1/0772/8542/5497/products/e8490702c423e6c62d356cace500822f.jpg?v=1692704954'],\n",
       "   'handle': 'adidas-superstar-80s'}},\n",
       " {'page_content': 'Title: CONVERSE | TODDLER CHUCK TAYLOR ALL STAR AXEL MID Description: The Converse Chuck Taylor All Star Axel recasts the iconic original in a refreshed silhouette for a premium look and feel. A no-tie design lets kids slip them on and go, while a rubber outsole delivers reliable traction from the classroom to the playground. Tags: converse, egnition-sample-data, kid',\n",
       "  'metadata': {'source': '/home/leon/code/shopify_langchain_testing/products.json',\n",
       "   'seq_num': 8,\n",
       "   'id': 8497889575257,\n",
       "   'title': 'CONVERSE | TODDLER CHUCK TAYLOR ALL STAR AXEL MID',\n",
       "   'tags': None,\n",
       "   'images_list': ['https://cdn.shopify.com/s/files/1/0772/8542/5497/products/9e0022e2f92e19ed96c8f908f2cf1b40.jpg?v=1692705041',\n",
       "    'https://cdn.shopify.com/s/files/1/0772/8542/5497/products/ccb1295a4de27c9e22baa70f93c80e11.jpg?v=1692705041',\n",
       "    'https://cdn.shopify.com/s/files/1/0772/8542/5497/products/a1c5f2b0c38389be8616b23b4809d1eb.jpg?v=1692705041',\n",
       "    'https://cdn.shopify.com/s/files/1/0772/8542/5497/products/e80b902b3f4690444edb80c1462b262c.jpg?v=1692705041',\n",
       "    'https://cdn.shopify.com/s/files/1/0772/8542/5497/products/d6b14300fa5787e09152538830682ce3.jpg?v=1692705041'],\n",
       "   'handle': 'converse-toddler-chuck-taylor-all-star-axel-mid'}},\n",
       " {'page_content': 'Title: ADIDAS | CLASSIC BACKPACK | LEGEND INK MULTICOLOUR Description: The adidas BP Classic Cap features a pre-curved brim to keep your face shaded, while a hook-and-loop adjustable closure provides a comfortable fit. With a 3-Stripes design and reflective accents. The perfect piece to top off any outfit. Tags: adidas, backpack, egnition-sample-data',\n",
       "  'metadata': {'source': '/home/leon/code/shopify_langchain_testing/products.json',\n",
       "   'seq_num': 2,\n",
       "   'id': 8497890001241,\n",
       "   'title': 'ADIDAS | CLASSIC BACKPACK | LEGEND INK MULTICOLOUR',\n",
       "   'tags': None,\n",
       "   'images_list': ['https://cdn.shopify.com/s/files/1/0772/8542/5497/products/8072c8b5718306d4be25aac21836ce16.jpg?v=1692705085',\n",
       "    'https://cdn.shopify.com/s/files/1/0772/8542/5497/products/32b3863554f4686d825d9da18a24cfc6.jpg?v=1692705085',\n",
       "    'https://cdn.shopify.com/s/files/1/0772/8542/5497/products/044f848776141f1024eae6c610a28d12.jpg?v=1692705085'],\n",
       "   'handle': 'adidas-classic-backpack-legend-ink-multicolour'}}]"
      ]
     },
     "execution_count": 3,
     "metadata": {},
     "output_type": "execute_result"
    }
   ],
   "source": [
    "response.json()"
   ]
  },
  {
   "cell_type": "code",
   "execution_count": 5,
   "metadata": {},
   "outputs": [
    {
     "data": {
      "text/plain": [
       "'https://0349d9.myshopify.com/products/adidas-kids-stan-smith'"
      ]
     },
     "execution_count": 5,
     "metadata": {},
     "output_type": "execute_result"
    }
   ],
   "source": [
    "\"https://0349d9.myshopify.com/products/\" + response.json()[0][\"metadata\"][\"handle\"]"
   ]
  },
  {
   "cell_type": "code",
   "execution_count": null,
   "metadata": {},
   "outputs": [],
   "source": []
  }
 ],
 "metadata": {
  "kernelspec": {
   "display_name": "langchain_shopify",
   "language": "python",
   "name": "python3"
  },
  "language_info": {
   "codemirror_mode": {
    "name": "ipython",
    "version": 3
   },
   "file_extension": ".py",
   "mimetype": "text/x-python",
   "name": "python",
   "nbconvert_exporter": "python",
   "pygments_lexer": "ipython3",
   "version": "3.10.12"
  },
  "orig_nbformat": 4
 },
 "nbformat": 4,
 "nbformat_minor": 2
}
